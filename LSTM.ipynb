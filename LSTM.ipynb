{
 "cells": [
  {
   "cell_type": "code",
   "execution_count": 54,
   "metadata": {},
   "outputs": [],
   "source": [
    "# Import necessary library\n",
    "import pandas as pd\n",
    "import numpy as np\n",
    "import re\n",
    "import nltk\n",
    "from nltk.corpus import stopwords\n",
    "from numpy import array\n",
    "from keras.preprocessing.text import one_hot, Tokenizer\n",
    "from tensorflow.keras.preprocessing.sequence import pad_sequences\n",
    "import tensorflow as tf\n",
    "import string\n",
    "from nltk.stem import WordNetLemmatizer, PorterStemmer\n",
    "from glove import Corpus, Glove\n",
    "from keras.layers import SimpleRNN, Embedding, Dense, LSTM, Dropout, BatchNormalization\n",
    "from keras.models import Sequential\n",
    "import matplotlib.pyplot as plt\n",
    "from sklearn.manifold import TSNE\n",
    "import math\n",
    "from keras.callbacks import ModelCheckpoint\n"
   ]
  },
  {
   "attachments": {},
   "cell_type": "markdown",
   "metadata": {},
   "source": [
    "### Loading data"
   ]
  },
  {
   "cell_type": "code",
   "execution_count": 2,
   "metadata": {},
   "outputs": [],
   "source": [
    "def load_data(split_name='train', columns=['text', 'stars'], folder='data'):\n",
    "    '''\n",
    "        \"split_name\" may be set as 'train', 'valid' or 'test' to load the corresponding dataset.\n",
    "        \n",
    "        You may also specify the column names to load any columns in the .csv data file.\n",
    "        Among many, \"text\" can be used as model input, and \"stars\" column is the labels (sentiment). \n",
    "        If you like, you are free to use columns other than \"text\" for prediction.\n",
    "    '''\n",
    "    try:\n",
    "        print(f\"select [{', '.join(columns)}] columns from the {split_name} split\")\n",
    "        df = pd.read_csv(f'./{folder}/{split_name}.csv')\n",
    "        df = df.loc[:,columns]\n",
    "        print(\"Success\")\n",
    "        return df\n",
    "    except:\n",
    "        print(f\"Failed loading specified columns... Returning all columns from the {split_name} split\")\n",
    "        df = pd.read_csv(f'{folder}/{split_name}.csv')\n",
    "        return df"
   ]
  },
  {
   "cell_type": "code",
   "execution_count": 3,
   "metadata": {},
   "outputs": [
    {
     "name": "stdout",
     "output_type": "stream",
     "text": [
      "select [text, stars] columns from the train split\n",
      "Success\n",
      "select [text, stars] columns from the valid split\n",
      "Success\n",
      "select [text, stars] columns from the test split\n",
      "Failed loading specified columns... Returning all columns from the test split\n"
     ]
    }
   ],
   "source": [
    "train_df = load_data(\"train\")\n",
    "valid_df = load_data(\"valid\")\n",
    "test_df = load_data(\"test\")"
   ]
  },
  {
   "attachments": {},
   "cell_type": "markdown",
   "metadata": {},
   "source": [
    "### Observation of the Dataset (Training Dataset)"
   ]
  },
  {
   "cell_type": "code",
   "execution_count": 4,
   "metadata": {},
   "outputs": [],
   "source": [
    "train_df.drop([7376, 12207, 17890], axis=0, inplace=True)\n",
    "train_df = train_df.reset_index(drop=True)"
   ]
  },
  {
   "cell_type": "code",
   "execution_count": 5,
   "metadata": {},
   "outputs": [
    {
     "name": "stdout",
     "output_type": "stream",
     "text": [
      "new shape of train_df: (17997, 2)\n",
      "                                                text  stars\n",
      "0  Best Sunday buffet in the two cities of Charlo...      5\n",
      "1  My friends and I decided to check out this pla...      4\n",
      "2  This is definitely New York Chinese food! The ...      5\n",
      "3  Beaucoup moins de choix que son voisin d'en fa...      3\n",
      "4  Location is nice, but it is the typical blah H...      2\n"
     ]
    }
   ],
   "source": [
    "print(f\"new shape of train_df: {train_df.shape}\")\n",
    "print(train_df.head())"
   ]
  },
  {
   "cell_type": "code",
   "execution_count": 6,
   "metadata": {},
   "outputs": [
    {
     "name": "stdout",
     "output_type": "stream",
     "text": [
      "2658\n",
      "1426\n",
      "1968\n",
      "4008\n",
      "7937\n"
     ]
    }
   ],
   "source": [
    "class5_count, class4_count, class1_count, class3_count, class2_count = train_df[\"stars\"].value_counts()\n",
    "print(class1_count)\n",
    "print(class2_count)\n",
    "print(class3_count)\n",
    "print(class4_count)\n",
    "print(class5_count)"
   ]
  },
  {
   "cell_type": "code",
   "execution_count": 7,
   "metadata": {},
   "outputs": [],
   "source": [
    "class1 = train_df[train_df[\"stars\"]==1]\n",
    "class2 = train_df[train_df[\"stars\"]==2]\n",
    "class3 = train_df[train_df[\"stars\"]==3]\n",
    "class4 = train_df[train_df[\"stars\"]==4]\n",
    "class5 = train_df[train_df[\"stars\"]==5]"
   ]
  },
  {
   "cell_type": "code",
   "execution_count": 8,
   "metadata": {},
   "outputs": [],
   "source": [
    "class1_over = class1.sample(500, replace=True)\n",
    "class2_over = class2.sample(1000, replace=True)\n",
    "class3_over = class3.sample(1000, replace=True)"
   ]
  },
  {
   "cell_type": "code",
   "execution_count": 9,
   "metadata": {},
   "outputs": [
    {
     "name": "stdout",
     "output_type": "stream",
     "text": [
      "                                                text  stars\n",
      "0  I have always enjoyed DD Peckers.  They cook t...      1\n",
      "1  Slowest service I have ever had at a restauran...      1\n",
      "2  DO NOT SHOP THERE. THESE STAFFS ARE UNPROFESSI...      1\n",
      "3  If I could give Green Acre Dog Boarding no sta...      1\n",
      "4  Made a reservation via Open Table and were sea...      1\n"
     ]
    }
   ],
   "source": [
    "new1 = pd.concat([class1_over, class1], axis=0)\n",
    "new2 = pd.concat([class2_over, class2], axis=0)\n",
    "new3 = pd.concat([class3_over, class3], axis=0)\n",
    "train_df1 = pd.concat([new1, new2, new3, class4, class5], axis=0).reset_index(drop=True)\n",
    "print(train_df1.head())"
   ]
  },
  {
   "cell_type": "code",
   "execution_count": 10,
   "metadata": {},
   "outputs": [
    {
     "name": "stdout",
     "output_type": "stream",
     "text": [
      "                                                text  stars\n",
      "0  I eat there, and take out often, and the authe...      5\n",
      "1  I came here last night with a large group and ...      4\n",
      "2  Not happy! Came out the shower to a housekeepe...      1\n",
      "3  My first run around with Barrio was average bu...      4\n",
      "4  Stopped in for Happy Hour yesterday. It's my s...      5\n"
     ]
    }
   ],
   "source": [
    "train_df1 = train_df1.sample(frac=1).reset_index(drop=True)\n",
    "print(train_df1.head())"
   ]
  },
  {
   "cell_type": "code",
   "execution_count": 11,
   "metadata": {},
   "outputs": [
    {
     "name": "stdout",
     "output_type": "stream",
     "text": [
      "                                                text  stars\n",
      "0  I eat there, and take out often, and the authe...      5\n",
      "1  I came here last night with a large group and ...      4\n",
      "2  Not happy! Came out the shower to a housekeepe...      1\n",
      "3  My first run around with Barrio was average bu...      4\n",
      "4  Stopped in for Happy Hour yesterday. It's my s...      5\n"
     ]
    }
   ],
   "source": [
    "train_df = train_df1\n",
    "print(train_df.head())"
   ]
  },
  {
   "cell_type": "code",
   "execution_count": 12,
   "metadata": {},
   "outputs": [
    {
     "name": "stdout",
     "output_type": "stream",
     "text": [
      "Missing value: False\n"
     ]
    }
   ],
   "source": [
    "# Check for possible null value inside the dataset\n",
    "print(f\"Missing value: {train_df.isnull().values.any()}\")"
   ]
  },
  {
   "cell_type": "code",
   "execution_count": 13,
   "metadata": {},
   "outputs": [
    {
     "data": {
      "text/plain": [
       "<Axes: xlabel='stars', ylabel='count'>"
      ]
     },
     "execution_count": 13,
     "metadata": {},
     "output_type": "execute_result"
    },
    {
     "data": {
      "image/png": "[encoded data removed]",
      "text/plain": [
       "<Figure size 640x480 with 1 Axes>"
      ]
     },
     "metadata": {},
     "output_type": "display_data"
    }
   ],
   "source": [
    "# Observe the distribution of the dataset\n",
    "import seaborn as sns\n",
    "sns.countplot(x='stars', data=train_df)"
   ]
  },
  {
   "cell_type": "code",
   "execution_count": 14,
   "metadata": {},
   "outputs": [
    {
     "name": "stdout",
     "output_type": "stream",
     "text": [
      "Dataset distribution: {'1': 3158, '2': 2426, '3': 2968, '4': 4008, '5': 7937}\n",
      "Dataset distribution(%): {'1': 0.15, '2': 0.12, '3': 0.14, '4': 0.2, '5': 0.39}\n"
     ]
    }
   ],
   "source": [
    "dataset_info = {\"1\":0, \"2\":0, \"3\":0, \"4\":0, \"5\":0}\n",
    "for rating in train_df[\"stars\"]:\n",
    "    dataset_info[str(rating)] += 1\n",
    "print(f\"Dataset distribution: {dataset_info}\")\n",
    "\n",
    "for rating in dataset_info:\n",
    "    dataset_info[rating] /= len(train_df[\"stars\"])\n",
    "    dataset_info[rating] = round(dataset_info[rating], 2)\n",
    "print(f\"Dataset distribution(%): {dataset_info}\")\n",
    "\n",
    "# Dataset is imbalance: https://www.analyticsvidhya.com/blog/2020/07/10-techniques-to-deal-with-class-imbalance-in-machine-learning/"
   ]
  },
  {
   "cell_type": "code",
   "execution_count": 15,
   "metadata": {},
   "outputs": [
    {
     "data": {
      "text/plain": [
       "count    20497.000000\n",
       "mean       132.068498\n",
       "std        124.767957\n",
       "min          2.000000\n",
       "25%         52.000000\n",
       "50%         92.000000\n",
       "75%        169.000000\n",
       "max       1136.000000\n",
       "Name: num_words, dtype: float64"
      ]
     },
     "execution_count": 15,
     "metadata": {},
     "output_type": "execute_result"
    }
   ],
   "source": [
    "train_df['num_words'] = train_df['text'].apply(lambda x:len(nltk.word_tokenize(x)))\n",
    "train_df['num_words'].describe()"
   ]
  },
  {
   "cell_type": "code",
   "execution_count": null,
   "metadata": {},
   "outputs": [],
   "source": [
    "\"\"\"q1 = np.quantile(train_df[\"num_words\"], 0.25)\n",
    "q3 = np.quantile(train_df[\"num_words\"], 0.75)\n",
    "med = np.median(train_df[\"num_words\"])\n",
    "\n",
    "iqr = q3-q1\n",
    "\n",
    "upper_bound = q3+(1.5*iqr)\n",
    "lower_bound = q1-(1.5*iqr)\n",
    "outliers = train_df[\"num_words\"][(train_df[\"num_words\"] <= lower_bound) | (train_df[\"num_words\"] >= upper_bound)]\n",
    "\n",
    "train_df.drop(train_df[\"num_words\"][(train_df[\"num_words\"] <= lower_bound) | (train_df[\"num_words\"] >= upper_bound)].index, axis=0, inplace=True)\n",
    "train_df = train_df.reset_index()\n",
    "print(train_df.shape)\"\"\""
   ]
  },
  {
   "attachments": {},
   "cell_type": "markdown",
   "metadata": {},
   "source": [
    "### Text Preprocessing"
   ]
  },
  {
   "cell_type": "code",
   "execution_count": 16,
   "metadata": {},
   "outputs": [],
   "source": [
    "lemmatizer = WordNetLemmatizer()\n",
    "stop_words = ['i', 'me', 'my', 'myself', 'we', 'our', 'ours', 'ourselves', 'you',  \"you're\", \"you've\", \"you'll\", \"you'd\", 'your', 'yours', 'yourself', 'yourselves', 'he', 'him', 'his', 'himself', 'she', \"she's\", 'her', 'hers', 'herself', 'it', 'itself', 'they', 'them', 'their', 'theirs', 'themselves', 'what', 'which', 'who', 'whom', 'this', 'that', \"that'll\", 'these', 'those', 'am', 'is', 'are', 'was', 'were', 'be', 'been', 'being', 'have', 'has', 'had', 'having', 'do', 'does', 'did', 'doing', 'a', 'an', 'the', 'if', 'or', 'because', 'as', 'until', 'while', 'of', 'at', 'by', 'for', 'with', 'about', 'between', 'into', 'through', 'during', 'before', 'after', 'above', 'below', 'to', 'from', 'up', 'down', 'in', 'out', 'on', 'off', 'over', 'under', 'again', 'further', 'then', 'once', 'here', 'there', 'when', 'where', 'why', 'how', 'all', 'any', 'both', 'each', 'few', 'more', 'most', 'other', 'some', 'such','own', 'same', 's', 't', 'now', 'd', 'll', 'm', 'o', 're', 've', 'y', 'ain', 'ma', 'shan']"
   ]
  },
  {
   "cell_type": "code",
   "execution_count": 17,
   "metadata": {},
   "outputs": [],
   "source": [
    "def preprocess_text(text):\n",
    "  # 1. remove special character (e.g. \\n (new line character), \\d)\n",
    "  no_spec_char = re.sub(r\"(\\s?\\\\\\w)\", \" \", text)\n",
    "\n",
    "  # 2. remove number (e.g. 1, 145, 34... etc)\n",
    "  no_num = re.sub(r\"\\d+\", \" \", no_spec_char)\n",
    "  no_num = re.sub(r\"was\", \" \", no_num)\n",
    "\n",
    "  # 3. remove punctuation\n",
    "  # string.punctuation = !\"#$%&'()*+, -./:;<=>?@[\\]^_`{|}~\n",
    "  no_punc = [char for char in no_num if char not in string.punctuation]\n",
    "  no_punc = ''.join(no_punc)\n",
    "\n",
    "  # 4. tokenization\n",
    "  tokenize = nltk.word_tokenize(no_punc)\n",
    "\n",
    "  # 5. Lower casing\n",
    "  lower = [word.lower() for word in tokenize]\n",
    "\n",
    "  # 6. perform lammatization/stemming\n",
    "  lem_word = [lemmatizer.lemmatize(word) for word in lower]\n",
    " \n",
    "  # 7. remove stopwords (useless words and data)\n",
    "  clean_words = [word.lower() for word in lem_word if word.lower() not in stop_words]\n",
    "  \n",
    "  return clean_words"
   ]
  },
  {
   "cell_type": "code",
   "execution_count": 18,
   "metadata": {},
   "outputs": [
    {
     "data": {
      "text/plain": [
       "count    20497.000000\n",
       "mean        66.554423\n",
       "std         61.164908\n",
       "min          2.000000\n",
       "25%         27.000000\n",
       "50%         47.000000\n",
       "75%         85.000000\n",
       "max        563.000000\n",
       "Name: num_word_after_preprocessed, dtype: float64"
      ]
     },
     "execution_count": 18,
     "metadata": {},
     "output_type": "execute_result"
    }
   ],
   "source": [
    "train_preprocess_reviews = list()\n",
    "for review in list(train_df[\"text\"]):\n",
    "    train_preprocess_reviews.append(preprocess_text(review))\n",
    "    \n",
    "train_df[\"preprocessed_text\"] = train_preprocess_reviews \n",
    "train_df[\"num_word_after_preprocessed\"] = train_df[\"preprocessed_text\"].apply(lambda x: len(x))\n",
    "train_df[\"num_word_after_preprocessed\"].describe()"
   ]
  },
  {
   "cell_type": "code",
   "execution_count": 19,
   "metadata": {},
   "outputs": [
    {
     "name": "stderr",
     "output_type": "stream",
     "text": [
      "/tmp/ipykernel_279/3440549977.py:1: VisibleDeprecationWarning: Creating an ndarray from ragged nested sequences (which is a list-or-tuple of lists-or-tuples-or ndarrays with different lengths or shapes) is deprecated. If you meant to do this, you must specify 'dtype=object' when creating the ndarray.\n",
      "  train_preprocess_reviews  = np.array(train_preprocess_reviews)\n"
     ]
    }
   ],
   "source": [
    "train_preprocess_reviews  = np.array(train_preprocess_reviews)\n",
    "np.save(\"train_preprocess_review.npy\", train_preprocess_reviews)"
   ]
  },
  {
   "cell_type": "code",
   "execution_count": 20,
   "metadata": {},
   "outputs": [
    {
     "data": {
      "text/plain": [
       "count    2000.000000\n",
       "mean       64.967500\n",
       "std        55.972841\n",
       "min         4.000000\n",
       "25%        28.000000\n",
       "50%        47.000000\n",
       "75%        83.000000\n",
       "max       507.000000\n",
       "Name: num_word_after_preprocessed, dtype: float64"
      ]
     },
     "execution_count": 20,
     "metadata": {},
     "output_type": "execute_result"
    }
   ],
   "source": [
    "valid_preprocess_reviews = list()\n",
    "for review in list(valid_df[\"text\"]):\n",
    "    valid_preprocess_reviews.append(preprocess_text(review))\n",
    "    \n",
    "valid_df[\"preprocessed_text\"] = valid_preprocess_reviews\n",
    "valid_df[\"num_word_after_preprocessed\"] = valid_df[\"preprocessed_text\"].apply(lambda x: len(x))\n",
    "valid_df[\"num_word_after_preprocessed\"].describe()"
   ]
  },
  {
   "cell_type": "code",
   "execution_count": 21,
   "metadata": {},
   "outputs": [
    {
     "name": "stderr",
     "output_type": "stream",
     "text": [
      "/tmp/ipykernel_279/409614685.py:1: VisibleDeprecationWarning: Creating an ndarray from ragged nested sequences (which is a list-or-tuple of lists-or-tuples-or ndarrays with different lengths or shapes) is deprecated. If you meant to do this, you must specify 'dtype=object' when creating the ndarray.\n",
      "  valid_preprocess_reviews = np.array(valid_preprocess_reviews)\n"
     ]
    }
   ],
   "source": [
    "valid_preprocess_reviews = np.array(valid_preprocess_reviews)\n",
    "np.save(\"valid_preprocess_reviews.npy\", valid_preprocess_reviews)"
   ]
  },
  {
   "attachments": {},
   "cell_type": "markdown",
   "metadata": {},
   "source": [
    "### Word embedding"
   ]
  },
  {
   "cell_type": "code",
   "execution_count": 22,
   "metadata": {},
   "outputs": [],
   "source": [
    "import gensim.downloader as api\n",
    "glove = api.load('glove-wiki-gigaword-300')"
   ]
  },
  {
   "cell_type": "code",
   "execution_count": null,
   "metadata": {},
   "outputs": [],
   "source": [
    "# Word embedding GloVe: https://www.youtube.com/watch?v=Fn_U2OG1uqI&ab_channel=NormalizedNerd\n",
    "# https://www.youtube.com/watch?v=InCWrgrUJT8&ab_channel=Scarlett%27sLog  "
   ]
  },
  {
   "attachments": {},
   "cell_type": "markdown",
   "metadata": {},
   "source": [
    "Model"
   ]
  },
  {
   "cell_type": "code",
   "execution_count": 134,
   "metadata": {},
   "outputs": [],
   "source": [
    "class ReviewDataset(tf.keras.utils.Sequence):\n",
    "\n",
    "    def __init__(self, X_set, y_set, batch_size, set_type):\n",
    "        super(ReviewDataset, self).__init__()\n",
    "        self.X = X_set\n",
    "        self.y = y_set\n",
    "        self.batch_size = batch_size\n",
    "        self.type = set_type\n",
    "        self.maxlen = 120\n",
    "    \n",
    "    def GloVE(self, batch):\n",
    "        vec_reviews = list()\n",
    "        percentage = 0\n",
    "        for i, review in enumerate(batch):\n",
    "            vec_review = list()\n",
    "            pad = np.zeros((self.maxlen, 300)).tolist()\n",
    "            #banchmark = int(len(review)*percentage)\n",
    "            for j, word in enumerate(review):\n",
    "                try:\n",
    "                    wordvec = glove[word].tolist()\n",
    "                    vec_review.append(wordvec)\n",
    "                except:\n",
    "                    #print(f\"[{word}] in review {i} cannot be converted to vector and thus removed\")\n",
    "                    pass\n",
    "            \"\"\"if (len(vec_review) <= banchmark):\n",
    "                removed_data.append(i)\n",
    "                print(review)\n",
    "                continue\"\"\"\n",
    "            if (len(vec_review) >= self.maxlen):\n",
    "                pad = vec_review[:self.maxlen]\n",
    "            else:\n",
    "                pad[:len(vec_review)] = vec_review\n",
    "            vec_reviews.append(pad)\n",
    "        return vec_reviews\n",
    "\n",
    "    def __len__(self):\n",
    "        return math.ceil(len(self.X)/self.batch_size)\n",
    "    \n",
    "    def __getitem__(self, idx):\n",
    "        low = idx*self.batch_size\n",
    "        high = min(low+self.batch_size, len(self.X))\n",
    "        batch_x = self.X[low:high]\n",
    "        batch_y = self.y[low:high]\n",
    "        batch_x = np.array(self.GloVE(batch_x))\n",
    "        batch_y = np.array(batch_y)\n",
    "        batch_x = tf.convert_to_tensor(batch_x)\n",
    "        batch_y = tf.convert_to_tensor(batch_y)\n",
    "        return batch_x, batch_y\n",
    "\n"
   ]
  },
  {
   "cell_type": "code",
   "execution_count": 110,
   "metadata": {},
   "outputs": [],
   "source": [
    "train_preprocess_reviews = np.load(\"train_preprocess_review.npy\", allow_pickle=True)\n",
    "valid_preprocess_reviews = np.load(\"valid_preprocess_reviews.npy\", allow_pickle=True)"
   ]
  },
  {
   "cell_type": "code",
   "execution_count": 112,
   "metadata": {},
   "outputs": [],
   "source": [
    "train_labels = list(train_df[\"stars\"])\n",
    "train_one_hot_labels = list()\n",
    "for label in train_labels:\n",
    "    one_hot = np.eye(5)[label-1]\n",
    "    train_one_hot_labels.append(one_hot)"
   ]
  },
  {
   "cell_type": "code",
   "execution_count": 113,
   "metadata": {},
   "outputs": [],
   "source": [
    "valid_labels = list(valid_df[\"stars\"])\n",
    "valid_one_hot_labels = list()\n",
    "for label in valid_labels:\n",
    "    one_hot = np.eye(5)[label-1]\n",
    "    valid_one_hot_labels.append(one_hot)"
   ]
  },
  {
   "cell_type": "code",
   "execution_count": 129,
   "metadata": {},
   "outputs": [
    {
     "name": "stdout",
     "output_type": "stream",
     "text": [
      "20497\n",
      "20497\n"
     ]
    }
   ],
   "source": [
    "print(len(train_preprocess_reviews))\n",
    "print(len(train_one_hot_labels))"
   ]
  },
  {
   "cell_type": "code",
   "execution_count": 135,
   "metadata": {},
   "outputs": [],
   "source": [
    "train_set = ReviewDataset(train_preprocess_reviews, train_one_hot_labels, 64, \"train\")\n",
    "valid_set = ReviewDataset(valid_preprocess_reviews, valid_one_hot_labels, 64, \"valid\")"
   ]
  },
  {
   "cell_type": "code",
   "execution_count": 136,
   "metadata": {},
   "outputs": [],
   "source": [
    "checkpoint_filepath = './checkpoint3'\n",
    "model_checkpoint_callback = ModelCheckpoint(filepath=checkpoint_filepath, monitor='val_acc', verbose=1, save_best_only=True, save_weights_only=True, mode='max')\n",
    "callbacks = [model_checkpoint_callback]"
   ]
  },
  {
   "cell_type": "code",
   "execution_count": 137,
   "metadata": {},
   "outputs": [],
   "source": [
    "model = Sequential()\n",
    "model.add(LSTM(64))\n",
    "model.add(BatchNormalization())\n",
    "model.add(Dropout(0.5))\n",
    "model.add(Dense(32, activation='relu'))\n",
    "model.add(BatchNormalization())\n",
    "model.add(Dropout(0.5))\n",
    "model.add(Dense(5, activation=tf.nn.softmax))"
   ]
  },
  {
   "cell_type": "code",
   "execution_count": 138,
   "metadata": {},
   "outputs": [],
   "source": [
    "from keras import optimizers\n",
    "adam = optimizers.Adam(learning_rate=0.01, decay=1e-3)\n",
    "model.compile(optimizer=adam, loss='categorical_crossentropy', metrics=['acc'])"
   ]
  },
  {
   "cell_type": "code",
   "execution_count": 139,
   "metadata": {},
   "outputs": [
    {
     "name": "stdout",
     "output_type": "stream",
     "text": [
      "Epoch 1/25\n",
      "321/321 [==============================] - ETA: 0s - loss: 1.4932 - acc: 0.3968\n",
      "Epoch 1: val_acc improved from -inf to 0.55500, saving model to ./checkpoint3\n",
      "321/321 [==============================] - 76s 230ms/step - loss: 1.4932 - acc: 0.3968 - val_loss: 1.1245 - val_acc: 0.5550\n",
      "Epoch 2/25\n",
      "321/321 [==============================] - ETA: 0s - loss: 1.1015 - acc: 0.5378\n",
      "Epoch 2: val_acc improved from 0.55500 to 0.55550, saving model to ./checkpoint3\n",
      "321/321 [==============================] - 78s 242ms/step - loss: 1.1015 - acc: 0.5378 - val_loss: 1.0664 - val_acc: 0.5555\n",
      "Epoch 3/25\n",
      "321/321 [==============================] - ETA: 0s - loss: 0.9775 - acc: 0.5900\n",
      "Epoch 3: val_acc improved from 0.55550 to 0.62550, saving model to ./checkpoint3\n",
      "321/321 [==============================] - 81s 253ms/step - loss: 0.9775 - acc: 0.5900 - val_loss: 0.9050 - val_acc: 0.6255\n",
      "Epoch 4/25\n",
      "321/321 [==============================] - ETA: 0s - loss: 0.8997 - acc: 0.6271\n",
      "Epoch 4: val_acc improved from 0.62550 to 0.63650, saving model to ./checkpoint3\n",
      "321/321 [==============================] - 82s 256ms/step - loss: 0.8997 - acc: 0.6271 - val_loss: 0.8761 - val_acc: 0.6365\n",
      "Epoch 5/25\n",
      "321/321 [==============================] - ETA: 0s - loss: 0.8442 - acc: 0.6495\n",
      "Epoch 5: val_acc improved from 0.63650 to 0.64200, saving model to ./checkpoint3\n",
      "321/321 [==============================] - 86s 267ms/step - loss: 0.8442 - acc: 0.6495 - val_loss: 0.8863 - val_acc: 0.6420\n",
      "Epoch 6/25\n",
      "321/321 [==============================] - ETA: 0s - loss: 0.7786 - acc: 0.6788\n",
      "Epoch 6: val_acc did not improve from 0.64200\n",
      "321/321 [==============================] - 86s 269ms/step - loss: 0.7786 - acc: 0.6788 - val_loss: 0.9239 - val_acc: 0.6315\n",
      "Epoch 7/25\n",
      "321/321 [==============================] - ETA: 0s - loss: 0.7212 - acc: 0.7075\n",
      "Epoch 7: val_acc did not improve from 0.64200\n",
      "321/321 [==============================] - 87s 272ms/step - loss: 0.7212 - acc: 0.7075 - val_loss: 1.0377 - val_acc: 0.5985\n",
      "Epoch 8/25\n",
      "321/321 [==============================] - ETA: 0s - loss: 0.6604 - acc: 0.7346\n",
      "Epoch 8: val_acc did not improve from 0.64200\n",
      "321/321 [==============================] - 80s 249ms/step - loss: 0.6604 - acc: 0.7346 - val_loss: 1.0537 - val_acc: 0.5940\n",
      "Epoch 9/25\n",
      "321/321 [==============================] - ETA: 0s - loss: 0.6085 - acc: 0.7634\n",
      "Epoch 9: val_acc did not improve from 0.64200\n",
      "321/321 [==============================] - 86s 269ms/step - loss: 0.6085 - acc: 0.7634 - val_loss: 1.0507 - val_acc: 0.6270\n",
      "Epoch 10/25\n",
      "321/321 [==============================] - ETA: 0s - loss: 0.5511 - acc: 0.7970\n",
      "Epoch 10: val_acc did not improve from 0.64200\n",
      "321/321 [==============================] - 88s 275ms/step - loss: 0.5511 - acc: 0.7970 - val_loss: 1.1800 - val_acc: 0.6010\n",
      "Epoch 11/25\n",
      "321/321 [==============================] - ETA: 0s - loss: 0.4983 - acc: 0.8161\n",
      "Epoch 11: val_acc did not improve from 0.64200\n",
      "321/321 [==============================] - 90s 280ms/step - loss: 0.4983 - acc: 0.8161 - val_loss: 1.2501 - val_acc: 0.6025\n",
      "Epoch 12/25\n",
      "321/321 [==============================] - ETA: 0s - loss: 0.4527 - acc: 0.8392\n",
      "Epoch 12: val_acc did not improve from 0.64200\n",
      "321/321 [==============================] - 90s 281ms/step - loss: 0.4527 - acc: 0.8392 - val_loss: 1.3106 - val_acc: 0.6140\n",
      "Epoch 13/25\n",
      "321/321 [==============================] - ETA: 0s - loss: 0.4159 - acc: 0.8571\n",
      "Epoch 13: val_acc did not improve from 0.64200\n",
      "321/321 [==============================] - 91s 284ms/step - loss: 0.4159 - acc: 0.8571 - val_loss: 1.4364 - val_acc: 0.6000\n",
      "Epoch 14/25\n",
      "321/321 [==============================] - ETA: 0s - loss: 0.3743 - acc: 0.8757\n",
      "Epoch 14: val_acc did not improve from 0.64200\n",
      "321/321 [==============================] - 92s 286ms/step - loss: 0.3743 - acc: 0.8757 - val_loss: 1.5434 - val_acc: 0.5915\n",
      "Epoch 15/25\n",
      "321/321 [==============================] - ETA: 0s - loss: 0.3370 - acc: 0.8932\n",
      "Epoch 15: val_acc did not improve from 0.64200\n",
      "321/321 [==============================] - 93s 290ms/step - loss: 0.3370 - acc: 0.8932 - val_loss: 1.5675 - val_acc: 0.6105\n",
      "Epoch 16/25\n",
      "321/321 [==============================] - ETA: 0s - loss: 0.3103 - acc: 0.9054\n",
      "Epoch 16: val_acc did not improve from 0.64200\n",
      "321/321 [==============================] - 87s 270ms/step - loss: 0.3103 - acc: 0.9054 - val_loss: 1.6577 - val_acc: 0.6060\n",
      "Epoch 17/25\n",
      "321/321 [==============================] - ETA: 0s - loss: 0.2750 - acc: 0.9182\n",
      "Epoch 17: val_acc did not improve from 0.64200\n",
      "321/321 [==============================] - 94s 294ms/step - loss: 0.2750 - acc: 0.9182 - val_loss: 1.8155 - val_acc: 0.5885\n",
      "Epoch 18/25\n",
      "321/321 [==============================] - ETA: 0s - loss: 0.2539 - acc: 0.9270\n",
      "Epoch 18: val_acc did not improve from 0.64200\n",
      "321/321 [==============================] - 96s 300ms/step - loss: 0.2539 - acc: 0.9270 - val_loss: 1.8035 - val_acc: 0.6010\n",
      "Epoch 19/25\n",
      "321/321 [==============================] - ETA: 0s - loss: 0.2394 - acc: 0.9322\n",
      "Epoch 19: val_acc did not improve from 0.64200\n",
      "321/321 [==============================] - 94s 294ms/step - loss: 0.2394 - acc: 0.9322 - val_loss: 1.9190 - val_acc: 0.5865\n",
      "Epoch 20/25\n",
      "321/321 [==============================] - ETA: 0s - loss: 0.2142 - acc: 0.9431\n",
      "Epoch 20: val_acc did not improve from 0.64200\n",
      "321/321 [==============================] - 98s 304ms/step - loss: 0.2142 - acc: 0.9431 - val_loss: 1.9723 - val_acc: 0.6010\n",
      "Epoch 21/25\n",
      "321/321 [==============================] - ETA: 0s - loss: 0.1992 - acc: 0.9484\n",
      "Epoch 21: val_acc did not improve from 0.64200\n",
      "321/321 [==============================] - 98s 304ms/step - loss: 0.1992 - acc: 0.9484 - val_loss: 2.1488 - val_acc: 0.5880\n",
      "Epoch 22/25\n",
      "321/321 [==============================] - ETA: 0s - loss: 0.1848 - acc: 0.9537\n",
      "Epoch 22: val_acc did not improve from 0.64200\n",
      "321/321 [==============================] - 100s 310ms/step - loss: 0.1848 - acc: 0.9537 - val_loss: 2.1016 - val_acc: 0.5980\n",
      "Epoch 23/25\n",
      "321/321 [==============================] - ETA: 0s - loss: 0.1786 - acc: 0.9569\n",
      "Epoch 23: val_acc did not improve from 0.64200\n",
      "321/321 [==============================] - 99s 309ms/step - loss: 0.1786 - acc: 0.9569 - val_loss: 2.1088 - val_acc: 0.6035\n",
      "Epoch 24/25\n",
      "321/321 [==============================] - ETA: 0s - loss: 0.1544 - acc: 0.9628\n",
      "Epoch 24: val_acc did not improve from 0.64200\n",
      "321/321 [==============================] - 98s 306ms/step - loss: 0.1544 - acc: 0.9628 - val_loss: 2.3826 - val_acc: 0.5970\n",
      "Epoch 25/25\n",
      "321/321 [==============================] - ETA: 0s - loss: 0.1441 - acc: 0.9660\n",
      "Epoch 25: val_acc did not improve from 0.64200\n",
      "321/321 [==============================] - 91s 282ms/step - loss: 0.1441 - acc: 0.9660 - val_loss: 2.3885 - val_acc: 0.6040\n"
     ]
    }
   ],
   "source": [
    "history_lstm = model.fit(train_set, epochs=25, validation_data=valid_set, callbacks=callbacks)"
   ]
  },
  {
   "cell_type": "code",
   "execution_count": 140,
   "metadata": {},
   "outputs": [
    {
     "data": {
      "image/png": "[encoded data removed]",
      "text/plain": [
       "<Figure size 640x480 with 1 Axes>"
      ]
     },
     "metadata": {},
     "output_type": "display_data"
    },
    {
     "data": {
      "image/png": "[encoded data removed]",
      "text/plain": [
       "<Figure size 640x480 with 1 Axes>"
      ]
     },
     "metadata": {},
     "output_type": "display_data"
    }
   ],
   "source": [
    "acc = history_lstm.history['acc']\n",
    "val_acc = history_lstm.history['val_acc']\n",
    "loss = history_lstm.history['loss']\n",
    "val_loss = history_lstm.history['val_loss']\n",
    "epochs = range(len(acc))\n",
    "plt.plot(epochs, acc, '-', color='orange', label='training acc')\n",
    "plt.plot(epochs, val_acc, '-', color='blue', label='validation acc')\n",
    "plt.title('Training and validation accuracy')\n",
    "plt.legend()\n",
    "plt.show()\n",
    "\n",
    "plt.plot(epochs, loss, '-', color='orange', label='training acc')\n",
    "plt.plot(epochs, val_loss,  '-', color='blue', label='validation acc')\n",
    "plt.title('Training and validation loss')\n",
    "plt.legend()\n",
    "plt.show()"
   ]
  },
  {
   "cell_type": "code",
   "execution_count": 141,
   "metadata": {},
   "outputs": [
    {
     "data": {
      "text/plain": [
       "<tensorflow.python.checkpoint.checkpoint.CheckpointLoadStatus at 0x7f9a8cf5a6d0>"
      ]
     },
     "execution_count": 141,
     "metadata": {},
     "output_type": "execute_result"
    }
   ],
   "source": [
    "model.load_weights(checkpoint_filepath)"
   ]
  },
  {
   "cell_type": "code",
   "execution_count": 142,
   "metadata": {},
   "outputs": [
    {
     "name": "stdout",
     "output_type": "stream",
     "text": [
      "32/32 [==============================] - 8s 225ms/step\n"
     ]
    }
   ],
   "source": [
    "outputs = model.predict(valid_set)"
   ]
  },
  {
   "cell_type": "code",
   "execution_count": 143,
   "metadata": {},
   "outputs": [],
   "source": [
    "valid_predict_labels = np.argmax(outputs, axis=1).tolist()"
   ]
  },
  {
   "cell_type": "code",
   "execution_count": 144,
   "metadata": {},
   "outputs": [],
   "source": [
    "for i in range(len(valid_predict_labels)):\n",
    "    valid_predict_labels[i] += 1"
   ]
  },
  {
   "cell_type": "code",
   "execution_count": 145,
   "metadata": {},
   "outputs": [
    {
     "name": "stdout",
     "output_type": "stream",
     "text": [
      "[5, 5, 1, 5, 1, 5, 5, 3, 5, 3, 4, 4, 5, 5, 5, 5, 3, 4, 5, 5, 1, 4, 3, 5, 4, 4, 5, 2, 4, 5, 3, 4, 5, 5, 3, 1, 5, 5, 5, 5, 3, 5, 4, 5, 5, 1, 5, 5, 4, 1, 2, 1, 5, 5, 1, 5, 2, 2, 5, 1, 1, 5, 4, 5, 3, 5, 4, 1, 1, 5, 3, 3, 5, 4, 5, 1, 5, 3, 5, 5, 3, 3, 5, 5, 5, 5, 5, 1, 1, 2, 3, 5, 1, 5, 5, 5, 2, 5, 2, 5, 1, 5, 5, 5, 3, 1, 2, 5, 5, 4, 5, 4, 4, 5, 4, 4, 5, 4, 5, 4, 5, 1, 4, 5, 1, 1, 5, 5, 4, 1, 3, 1, 3, 5, 3, 1, 5, 4, 2, 1, 5, 3, 1, 5, 5, 2, 1, 1, 5, 4, 1, 5, 5, 2, 5, 4, 5, 5, 1, 1, 5, 3, 5, 5, 4, 3, 1, 2, 2, 5, 4, 2, 1, 4, 3, 3, 5, 5, 5, 5, 5, 5, 5, 3, 5, 5, 2, 1, 4, 5, 5, 5, 2, 5, 5, 5, 1, 5, 5, 1, 5, 5, 5, 5, 2, 4, 3, 5, 1, 1, 1, 5, 5, 3, 2, 4, 1, 1, 5, 5, 4, 5, 5, 5, 5, 5, 1, 5, 1, 5, 1, 5, 3, 5, 4, 1, 1, 5, 5, 5, 4, 3, 4, 3, 5, 4, 2, 1, 5, 5, 4, 5, 5, 2, 5, 4, 5, 3, 5, 3, 1, 2, 1, 1, 5, 5, 4, 3, 5, 2, 5, 1, 4, 1, 5, 2, 5, 3, 5, 2, 5, 3, 4, 3, 1, 5, 4, 4, 4, 2, 1, 1, 5, 5, 4, 5, 5, 1, 5, 4, 5, 3, 5, 5, 1, 5, 5, 5, 5, 5, 5, 2, 5, 5, 1, 3, 2, 3, 5, 5, 5, 3, 5, 5, 5, 5, 5, 3, 2, 1, 3, 4, 3, 2, 2, 5, 5, 1, 1, 2, 3, 5, 4, 5, 3, 2, 5, 5, 4, 5, 5, 4, 5, 5, 5, 1, 1, 5, 5, 5, 3, 3, 3, 1, 5, 5, 1, 5, 3, 3, 4, 4, 2, 1, 5, 5, 3, 5, 2, 5, 2, 2, 5, 5, 5, 3, 1, 3, 2, 5, 3, 2, 5, 5, 5, 3, 1, 5, 1, 5, 5, 5, 3, 3, 1, 5, 5, 5, 5, 5, 1, 5, 3, 3, 5, 3, 5, 5, 5, 3, 5, 1, 5, 2, 4, 1, 5, 4, 5, 5, 5, 4, 1, 5, 5, 4, 5, 5, 3, 5, 4, 2, 1, 5, 3, 2, 4, 1, 5, 1, 2, 4, 5, 5, 1, 4, 3, 5, 4, 5, 5, 1, 2, 5, 1, 5, 3, 5, 1, 3, 4, 4, 5, 5, 5, 2, 5, 5, 5, 5, 1, 3, 3, 5, 5, 2, 5, 4, 1, 5, 2, 3, 3, 5, 4, 1, 5, 1, 5, 5, 5, 5, 1, 5, 5, 5, 5, 1, 4, 5, 1, 1, 4, 5, 5, 3, 5, 5, 5, 2, 5, 5, 3, 5, 1, 1, 5, 5, 3, 4, 4, 3, 5, 5, 5, 5, 3, 5, 5, 5, 2, 5, 3, 5, 5, 4, 3, 5, 5, 5, 5, 4, 1, 5, 4, 3, 5, 5, 3, 5, 5, 5, 5, 5, 4, 1, 5, 1, 5, 4, 1, 2, 4, 1, 3, 5, 3, 5, 3, 5, 5, 4, 5, 5, 3, 5, 5, 5, 5, 3, 3, 1, 5, 4, 5, 5, 3, 5, 2, 3, 5, 5, 1, 3, 3, 5, 2, 1, 5, 5, 5, 1, 5, 5, 4, 1, 5, 5, 3, 4, 3, 2, 1, 4, 1, 4, 3, 2, 2, 1, 5, 2, 5, 5, 5, 5, 4, 5, 4, 5, 1, 2, 3, 5, 4, 5, 5, 5, 5, 3, 5, 5, 4, 3, 3, 1, 4, 2, 4, 3, 4, 5, 1, 3, 3, 5, 1, 5, 4, 3, 5, 5, 5, 5, 1, 5, 5, 2, 1, 5, 5, 3, 1, 5, 5, 2, 4, 5, 5, 5, 5, 1, 4, 3, 5, 5, 5, 3, 1, 4, 1, 4, 5, 5, 2, 4, 4, 5, 5, 4, 4, 5, 4, 5, 2, 1, 5, 2, 4, 5, 5, 3, 5, 5, 5, 5, 1, 5, 5, 5, 5, 1, 5, 4, 5, 5, 5, 5, 5, 4, 5, 5, 3, 4, 3, 4, 1, 5, 4, 5, 4, 5, 5, 4, 5, 1, 5, 5, 5, 5, 5, 3, 1, 2, 5, 5, 5, 5, 1, 5, 5, 3, 5, 4, 5, 1, 4, 4, 4, 5, 5, 5, 4, 4, 5, 1, 4, 1, 5, 4, 5, 5, 5, 5, 3, 5, 3, 1, 5, 5, 5, 4, 1, 5, 5, 3, 5, 5, 1, 2, 5, 1, 3, 5, 2, 5, 3, 3, 5, 5, 5, 5, 5, 3, 1, 4, 3, 5, 1, 5, 5, 1, 5, 5, 5, 5, 1, 3, 5, 5, 2, 2, 5, 1, 5, 5, 3, 3, 5, 5, 1, 1, 2, 4, 1, 1, 2, 5, 4, 5, 5, 1, 5, 3, 5, 5, 5, 1, 3, 1, 4, 5, 5, 5, 3, 5, 1, 5, 5, 5, 5, 5, 5, 3, 5, 5, 2, 5, 2, 5, 3, 1, 1, 3, 3, 5, 4, 1, 4, 5, 5, 1, 4, 5, 5, 5, 5, 3, 5, 5, 4, 1, 4, 5, 5, 5, 1, 4, 4, 3, 5, 5, 5, 5, 1, 4, 3, 3, 5, 5, 5, 5, 5, 2, 5, 2, 3, 1, 5, 5, 3, 5, 5, 4, 4, 1, 5, 5, 5, 1, 1, 5, 5, 3, 5, 5, 5, 5, 4, 2, 3, 3, 2, 5, 5, 5, 1, 5, 4, 3, 1, 1, 5, 5, 5, 3, 5, 3, 3, 5, 3, 5, 5, 5, 5, 5, 5, 4, 5, 5, 1, 5, 5, 4, 5, 3, 5, 1, 2, 4, 5, 2, 2, 5, 5, 5, 5, 3, 5, 3, 5, 1, 5, 5, 5, 4, 2, 1, 1, 5, 5, 5, 4, 4, 5, 3, 4, 3, 4, 5, 1, 3, 1, 1, 5, 1, 5, 5, 5, 3, 1, 3, 5, 5, 2, 5, 3, 4, 5, 3, 4, 1, 5, 4, 5, 2, 5, 5, 4, 4, 4, 1, 2, 5, 1, 4, 5, 4, 4, 5, 3, 5, 4, 5, 1, 5, 5, 5, 4, 1, 5, 1, 3, 5, 5, 5, 5, 3, 1, 4, 5, 1, 3, 5, 3, 4, 4, 3, 1, 5, 5, 5, 5, 1, 4, 4, 5, 5, 5, 4, 5, 1, 3, 5, 5, 4, 5, 5, 5, 1, 3, 3, 5, 3, 1, 5, 1, 5, 4, 4, 1, 4, 4, 1, 5, 5, 2, 1, 2, 1, 2, 1, 5, 2, 4, 5, 5, 1, 5, 1, 2, 4, 5, 4, 1, 5, 1, 5, 1, 4, 5, 4, 4, 1, 4, 4, 4, 5, 5, 5, 5, 5, 1, 1, 1, 1, 3, 5, 2, 2, 4, 5, 5, 5, 5, 2, 5, 3, 3, 3, 5, 3, 5, 1, 1, 2, 4, 5, 3, 1, 5, 3, 4, 5, 2, 3, 5, 5, 5, 5, 4, 3, 4, 5, 5, 5, 4, 5, 1, 3, 3, 5, 5, 3, 3, 5, 1, 5, 4, 5, 5, 5, 1, 5, 1, 5, 5, 3, 2, 5, 4, 4, 4, 5, 3, 3, 4, 4, 5, 4, 4, 5, 1, 5, 4, 3, 5, 5, 5, 1, 4, 5, 5, 3, 5, 3, 5, 1, 5, 5, 2, 5, 2, 1, 1, 5, 1, 5, 1, 4, 5, 5, 1, 5, 5, 2, 5, 1, 1, 4, 5, 1, 3, 4, 3, 5, 3, 4, 2, 4, 4, 1, 5, 4, 5, 5, 5, 4, 5, 5, 5, 1, 3, 5, 5, 5, 1, 1, 1, 5, 4, 3, 5, 5, 1, 5, 5, 2, 4, 5, 3, 4, 4, 2, 5, 1, 1, 5, 1, 4, 4, 5, 2, 3, 1, 5, 5, 4, 5, 3, 4, 5, 5, 5, 3, 5, 4, 1, 5, 1, 4, 3, 4, 3, 5, 1, 5, 5, 5, 1, 4, 5, 2, 1, 4, 5, 4, 5, 5, 4, 5, 5, 5, 5, 4, 4, 3, 5, 5, 5, 4, 2, 2, 5, 5, 1, 5, 2, 1, 3, 5, 5, 5, 5, 2, 2, 1, 4, 3, 3, 5, 4, 1, 4, 5, 3, 5, 4, 5, 5, 5, 4, 5, 3, 4, 5, 3, 4, 2, 4, 3, 2, 1, 3, 4, 4, 3, 5, 4, 2, 5, 5, 2, 1, 5, 5, 4, 1, 3, 5, 5, 2, 4, 3, 1, 3, 4, 5, 1, 5, 3, 4, 5, 1, 2, 1, 2, 5, 5, 4, 3, 5, 3, 5, 1, 5, 5, 5, 5, 4, 1, 3, 5, 5, 5, 5, 5, 4, 1, 2, 2, 4, 5, 5, 2, 1, 3, 5, 1, 2, 4, 3, 5, 3, 5, 4, 5, 5, 2, 5, 5, 5, 1, 5, 4, 5, 1, 3, 5, 5, 2, 4, 2, 4, 4, 2, 3, 5, 5, 4, 4, 2, 1, 5, 4, 5, 4, 5, 5, 5, 1, 5, 5, 5, 5, 5, 4, 3, 4, 2, 5, 3, 3, 5, 5, 5, 1, 5, 4, 2, 5, 5, 4, 4, 1, 5, 3, 5, 5, 1, 5, 2, 3, 1, 5, 3, 1, 5, 5, 5, 4, 1, 1, 2, 5, 3, 5, 2, 5, 3, 5, 5, 1, 5, 2, 2, 5, 5, 5, 2, 1, 5, 4, 1, 5, 4, 5, 1, 5, 5, 1, 4, 1, 3, 5, 5, 1, 4, 5, 4, 5, 4, 5, 5, 5, 5, 1, 3, 3, 4, 4, 5, 3, 5, 5, 2, 5, 5, 5, 3, 3, 5, 1, 1, 5, 2, 3, 5, 3, 5, 5, 5, 5, 3, 4, 3, 5, 5, 4, 5, 5, 5, 1, 5, 3, 5, 5, 3, 5, 5, 5, 5, 5, 4, 5, 5, 5, 4, 5, 5, 1, 5, 4, 4, 5, 1, 5, 5, 1, 1, 5, 5, 3, 4, 4, 5, 5, 4, 5, 1, 3, 1, 3, 1, 1, 5, 3, 5, 5, 5, 5, 1, 4, 3, 5, 3, 5, 5, 1, 3, 5, 4, 3, 5, 5, 3, 1, 4, 5, 1, 5, 5, 5, 3, 5, 5, 5, 5, 5, 2, 1, 5, 5, 2, 3, 3, 3, 5, 5, 1, 3, 4, 5, 5, 4, 3, 5, 5, 3, 5, 5, 4, 1, 5, 5, 5, 5, 1, 5, 2, 4, 4, 5, 5, 1, 3, 2, 5, 1, 2, 1, 3, 5, 5, 5, 5, 1, 4, 5, 5, 2, 5, 3, 3, 5, 3, 4, 1, 5, 1, 1, 2, 5, 1, 3, 5, 1, 3, 2, 5, 5, 5, 1, 1, 4, 5, 5, 4, 5, 2, 5, 5, 2, 5, 4, 5, 4, 1, 5, 5, 5, 3, 1, 5, 5, 2, 5, 5, 5, 5, 2, 4, 3, 3, 1, 5, 5, 5, 5, 5, 2, 3, 5, 5, 5, 5, 1, 5, 5, 1, 1, 3, 1, 5, 2, 5, 4, 1, 4, 3, 5, 5, 4, 5, 1, 4, 5, 5, 4, 1, 4, 2, 3, 3, 5, 4, 1, 5, 5, 5, 1, 5, 3, 5, 3, 1, 1, 5, 3, 1, 2, 1, 5, 5, 1, 5, 1, 2, 5, 1, 5, 2, 1, 2, 5, 3, 5, 5, 5, 5, 5, 3, 1, 5, 3, 3, 3, 5, 4, 5, 5, 5, 4, 1, 5, 5, 5, 5, 3, 3, 5, 2, 4, 1, 5, 5, 5, 5, 2, 3, 4, 5, 5, 1, 5, 5, 5, 1, 2, 3, 5, 5, 1, 1, 5, 4, 5, 2, 5, 5, 5, 5, 5, 2, 4, 5, 1, 5, 5, 2, 5, 5, 5, 5, 5, 1, 1, 5, 5, 5, 5, 1, 3, 3, 5, 5, 4, 5, 1, 5]\n",
      "[5, 5, 2, 3, 1, 5, 5, 3, 4, 3, 4, 4, 5, 5, 5, 5, 4, 5, 5, 5, 4, 4, 5, 5, 5, 4, 5, 2, 4, 5, 3, 4, 5, 5, 4, 3, 5, 5, 5, 5, 2, 2, 5, 5, 5, 1, 4, 5, 3, 3, 3, 1, 3, 5, 1, 5, 2, 1, 4, 1, 1, 5, 4, 5, 3, 5, 4, 1, 3, 5, 4, 4, 5, 4, 4, 1, 4, 3, 4, 4, 3, 4, 4, 5, 5, 5, 5, 1, 1, 5, 3, 5, 1, 4, 5, 5, 2, 5, 4, 5, 2, 5, 5, 5, 2, 1, 3, 5, 4, 5, 5, 4, 4, 5, 4, 5, 5, 4, 4, 5, 4, 2, 4, 5, 1, 1, 5, 5, 4, 3, 5, 1, 4, 5, 4, 1, 5, 4, 2, 3, 5, 2, 5, 5, 5, 2, 1, 5, 5, 3, 2, 4, 5, 2, 5, 4, 5, 5, 1, 4, 5, 3, 5, 5, 4, 3, 1, 2, 1, 5, 4, 3, 2, 4, 3, 2, 5, 5, 5, 5, 5, 5, 5, 3, 5, 4, 3, 1, 5, 5, 5, 5, 2, 5, 5, 5, 1, 5, 4, 5, 4, 5, 5, 3, 4, 5, 4, 5, 1, 1, 2, 5, 5, 5, 3, 5, 2, 4, 5, 5, 4, 5, 3, 5, 5, 5, 5, 5, 3, 4, 1, 5, 4, 5, 4, 1, 4, 5, 5, 5, 4, 2, 4, 2, 4, 4, 2, 2, 5, 5, 4, 4, 5, 4, 5, 3, 5, 4, 5, 4, 5, 2, 1, 1, 4, 5, 5, 2, 5, 2, 5, 1, 4, 1, 5, 2, 5, 2, 5, 3, 4, 4, 5, 4, 1, 5, 4, 3, 2, 2, 1, 1, 5, 3, 4, 5, 5, 2, 5, 5, 5, 1, 5, 5, 1, 5, 5, 5, 5, 5, 5, 2, 5, 5, 5, 5, 3, 5, 5, 5, 5, 5, 5, 4, 5, 5, 5, 3, 1, 1, 1, 3, 3, 3, 1, 5, 5, 1, 2, 3, 4, 3, 5, 5, 5, 1, 5, 5, 3, 4, 5, 5, 4, 5, 5, 3, 1, 5, 5, 4, 4, 3, 4, 1, 5, 5, 4, 5, 3, 2, 5, 5, 1, 1, 5, 4, 3, 5, 4, 5, 2, 1, 5, 5, 4, 3, 1, 5, 4, 5, 3, 2, 5, 4, 5, 3, 1, 5, 2, 5, 5, 4, 5, 3, 1, 5, 5, 5, 5, 5, 1, 5, 2, 4, 3, 4, 5, 5, 5, 3, 5, 3, 4, 3, 4, 1, 4, 3, 4, 5, 4, 4, 1, 5, 5, 5, 4, 5, 1, 5, 4, 2, 5, 5, 2, 1, 3, 1, 4, 2, 3, 5, 5, 4, 1, 3, 5, 5, 4, 5, 5, 2, 2, 5, 1, 5, 3, 5, 1, 4, 4, 3, 5, 5, 5, 5, 5, 5, 5, 5, 1, 2, 3, 4, 5, 1, 4, 5, 1, 4, 1, 5, 3, 5, 4, 1, 5, 2, 5, 2, 5, 4, 1, 5, 5, 5, 4, 1, 4, 5, 2, 4, 5, 5, 5, 4, 3, 5, 5, 2, 1, 5, 4, 5, 1, 2, 5, 5, 4, 4, 5, 3, 5, 5, 5, 5, 4, 5, 5, 5, 2, 5, 4, 3, 5, 5, 3, 5, 4, 1, 5, 4, 1, 3, 4, 3, 5, 5, 4, 5, 5, 4, 3, 5, 4, 1, 5, 1, 5, 4, 2, 1, 4, 1, 2, 5, 3, 5, 3, 5, 4, 5, 2, 5, 1, 5, 5, 5, 5, 5, 3, 1, 5, 2, 5, 5, 3, 5, 2, 5, 5, 4, 1, 4, 5, 5, 4, 1, 5, 4, 5, 1, 5, 5, 3, 1, 5, 5, 4, 1, 4, 2, 1, 4, 1, 2, 4, 3, 2, 5, 4, 2, 5, 5, 4, 5, 4, 5, 5, 5, 1, 2, 4, 4, 5, 5, 5, 5, 5, 3, 5, 4, 5, 3, 2, 1, 4, 2, 4, 4, 4, 5, 1, 3, 2, 5, 1, 5, 4, 4, 5, 5, 4, 5, 1, 5, 1, 4, 1, 4, 5, 2, 1, 5, 4, 1, 2, 5, 4, 5, 4, 1, 4, 2, 4, 5, 5, 4, 5, 3, 2, 4, 4, 5, 2, 5, 4, 5, 5, 4, 4, 1, 4, 5, 1, 1, 4, 2, 4, 5, 4, 3, 5, 5, 5, 5, 1, 5, 5, 5, 4, 1, 5, 4, 4, 1, 5, 4, 5, 5, 4, 5, 4, 4, 4, 5, 1, 5, 2, 5, 5, 5, 5, 4, 5, 2, 5, 5, 5, 4, 4, 1, 1, 3, 5, 5, 5, 4, 1, 5, 4, 1, 5, 5, 5, 1, 4, 5, 5, 4, 5, 5, 3, 4, 4, 1, 4, 1, 5, 4, 5, 5, 5, 4, 4, 5, 5, 1, 4, 5, 5, 5, 2, 5, 5, 4, 4, 4, 1, 2, 5, 1, 4, 5, 4, 5, 4, 2, 5, 5, 5, 5, 5, 2, 1, 5, 3, 5, 1, 5, 5, 1, 5, 5, 5, 5, 1, 2, 5, 5, 1, 2, 5, 2, 4, 5, 4, 2, 4, 4, 1, 1, 1, 4, 2, 1, 2, 4, 4, 5, 5, 1, 5, 3, 5, 5, 5, 1, 3, 2, 4, 5, 5, 5, 1, 5, 1, 5, 5, 5, 5, 5, 5, 4, 5, 5, 1, 5, 4, 5, 3, 1, 1, 3, 3, 5, 4, 1, 5, 5, 5, 1, 4, 5, 5, 5, 5, 4, 5, 5, 4, 1, 4, 5, 5, 5, 1, 3, 4, 4, 5, 5, 5, 4, 1, 5, 1, 4, 5, 5, 5, 5, 5, 3, 5, 1, 2, 1, 5, 5, 3, 5, 5, 5, 4, 1, 1, 5, 5, 1, 1, 5, 4, 1, 4, 5, 5, 5, 4, 3, 3, 3, 1, 4, 5, 5, 1, 5, 4, 4, 1, 1, 5, 5, 5, 2, 5, 3, 3, 5, 4, 5, 5, 4, 5, 5, 5, 4, 5, 5, 1, 5, 5, 4, 5, 1, 5, 2, 3, 5, 5, 3, 3, 4, 4, 5, 5, 4, 5, 5, 5, 1, 5, 5, 5, 5, 2, 1, 1, 5, 5, 4, 4, 4, 5, 4, 5, 3, 4, 5, 1, 4, 1, 2, 5, 2, 5, 4, 5, 3, 1, 4, 4, 5, 2, 5, 1, 3, 5, 3, 4, 3, 5, 4, 5, 5, 5, 4, 4, 3, 4, 1, 2, 4, 2, 5, 5, 3, 4, 5, 2, 5, 5, 5, 1, 5, 4, 4, 3, 1, 5, 1, 5, 5, 4, 1, 4, 4, 1, 3, 5, 1, 3, 5, 3, 4, 4, 5, 1, 5, 4, 5, 5, 4, 4, 3, 5, 5, 5, 5, 5, 1, 4, 5, 5, 4, 5, 5, 5, 1, 4, 4, 4, 2, 1, 4, 1, 5, 5, 1, 1, 4, 4, 1, 5, 5, 2, 1, 3, 1, 4, 1, 5, 4, 5, 4, 4, 1, 5, 1, 5, 3, 5, 5, 4, 5, 1, 4, 1, 5, 5, 5, 4, 2, 5, 5, 4, 5, 5, 5, 5, 5, 2, 1, 1, 1, 3, 5, 3, 2, 3, 4, 4, 5, 5, 2, 5, 4, 3, 1, 5, 2, 3, 1, 1, 2, 4, 5, 4, 2, 5, 2, 5, 5, 3, 5, 5, 5, 5, 5, 5, 3, 5, 5, 5, 4, 2, 5, 2, 3, 5, 5, 5, 2, 4, 5, 2, 5, 4, 5, 5, 5, 1, 5, 3, 3, 5, 5, 2, 5, 5, 4, 4, 5, 2, 3, 3, 5, 5, 5, 4, 4, 1, 4, 4, 5, 4, 4, 5, 1, 4, 5, 4, 3, 5, 3, 5, 1, 5, 5, 2, 5, 4, 1, 1, 5, 1, 5, 1, 5, 5, 5, 2, 5, 5, 2, 5, 1, 1, 3, 5, 1, 3, 5, 4, 5, 3, 5, 3, 4, 4, 1, 5, 5, 4, 5, 5, 4, 5, 5, 5, 1, 3, 5, 4, 5, 1, 3, 1, 1, 4, 3, 5, 5, 2, 5, 5, 2, 5, 5, 5, 4, 4, 2, 5, 1, 1, 5, 2, 4, 5, 3, 1, 3, 1, 5, 5, 4, 5, 4, 5, 4, 5, 5, 4, 4, 1, 1, 5, 1, 5, 3, 5, 5, 5, 1, 5, 5, 5, 1, 4, 5, 1, 1, 4, 5, 5, 5, 5, 4, 5, 5, 5, 4, 4, 4, 1, 5, 5, 5, 5, 2, 2, 4, 5, 2, 5, 2, 1, 4, 5, 5, 5, 5, 2, 3, 2, 4, 3, 3, 5, 3, 1, 3, 5, 3, 5, 4, 5, 5, 4, 4, 4, 5, 4, 4, 4, 5, 2, 4, 3, 3, 1, 3, 4, 3, 2, 5, 5, 2, 5, 5, 2, 5, 5, 5, 3, 1, 3, 5, 5, 1, 4, 4, 1, 3, 3, 5, 5, 4, 4, 3, 5, 1, 4, 1, 1, 5, 5, 5, 4, 5, 3, 4, 2, 5, 4, 5, 4, 4, 1, 3, 5, 5, 5, 4, 5, 4, 1, 3, 2, 3, 5, 5, 1, 5, 3, 5, 1, 3, 3, 3, 5, 4, 5, 3, 5, 4, 4, 5, 4, 5, 4, 5, 3, 4, 1, 3, 5, 5, 1, 4, 2, 4, 5, 2, 1, 5, 5, 4, 4, 2, 3, 3, 4, 5, 5, 5, 5, 5, 1, 3, 5, 5, 5, 5, 5, 3, 3, 3, 4, 4, 4, 4, 5, 5, 2, 5, 4, 2, 5, 5, 5, 5, 1, 5, 3, 5, 4, 1, 5, 1, 4, 2, 5, 3, 2, 5, 5, 4, 5, 1, 1, 3, 5, 3, 3, 3, 5, 5, 5, 4, 1, 5, 5, 3, 5, 4, 5, 1, 1, 4, 3, 1, 5, 4, 5, 1, 2, 4, 1, 4, 1, 3, 4, 5, 1, 5, 5, 5, 4, 5, 5, 5, 5, 5, 4, 4, 4, 3, 4, 5, 3, 5, 4, 2, 4, 4, 4, 3, 2, 5, 3, 2, 3, 2, 4, 5, 5, 3, 5, 3, 5, 3, 4, 5, 5, 3, 5, 5, 4, 5, 3, 5, 4, 5, 5, 4, 4, 4, 5, 5, 5, 5, 5, 5, 5, 5, 5, 4, 1, 5, 5, 4, 5, 1, 5, 5, 1, 1, 4, 4, 2, 4, 4, 4, 5, 4, 5, 1, 3, 1, 2, 5, 1, 5, 5, 5, 5, 5, 5, 1, 5, 5, 3, 3, 5, 5, 4, 2, 5, 4, 2, 5, 5, 4, 1, 3, 5, 2, 5, 5, 5, 3, 5, 5, 5, 4, 5, 1, 1, 5, 5, 3, 4, 3, 2, 5, 5, 2, 3, 5, 5, 3, 4, 5, 5, 5, 3, 5, 5, 4, 3, 4, 5, 4, 3, 2, 4, 3, 5, 5, 4, 5, 1, 3, 3, 5, 5, 2, 1, 2, 5, 5, 5, 5, 1, 5, 4, 5, 3, 5, 3, 5, 5, 4, 4, 1, 5, 1, 1, 2, 5, 1, 5, 5, 1, 3, 2, 5, 5, 4, 1, 1, 4, 5, 5, 3, 5, 3, 4, 4, 1, 3, 5, 5, 5, 1, 5, 5, 5, 3, 1, 3, 5, 3, 5, 4, 5, 5, 1, 5, 3, 4, 1, 5, 5, 4, 5, 4, 2, 2, 5, 4, 5, 2, 5, 5, 5, 1, 1, 4, 1, 5, 2, 5, 3, 1, 3, 4, 5, 4, 3, 4, 1, 5, 5, 5, 4, 1, 5, 4, 4, 3, 5, 5, 1, 3, 5, 2, 1, 4, 4, 5, 3, 1, 1, 5, 3, 1, 2, 1, 3, 5, 2, 5, 2, 2, 5, 1, 5, 3, 2, 1, 5, 3, 5, 5, 5, 5, 5, 4, 2, 5, 4, 3, 5, 1, 4, 5, 5, 5, 4, 3, 5, 5, 5, 5, 3, 3, 5, 1, 5, 1, 5, 4, 5, 4, 5, 5, 3, 5, 4, 3, 5, 5, 5, 1, 3, 3, 5, 5, 1, 1, 5, 4, 5, 1, 5, 5, 5, 5, 5, 1, 4, 5, 1, 5, 5, 3, 5, 4, 4, 5, 5, 1, 1, 5, 4, 5, 5, 1, 3, 1, 5, 5, 3, 5, 1, 5]\n"
     ]
    }
   ],
   "source": [
    "print(valid_predict_labels)\n",
    "print(valid_labels)"
   ]
  },
  {
   "cell_type": "code",
   "execution_count": 146,
   "metadata": {},
   "outputs": [
    {
     "name": "stdout",
     "output_type": "stream",
     "text": [
      "1284\n"
     ]
    }
   ],
   "source": [
    "correct = 0\n",
    "for i, label in enumerate(valid_predict_labels):\n",
    "    if (label == valid_labels[i]):\n",
    "        correct += 1\n",
    "print(correct)\n"
   ]
  },
  {
   "cell_type": "code",
   "execution_count": 147,
   "metadata": {},
   "outputs": [
    {
     "name": "stdout",
     "output_type": "stream",
     "text": [
      "              precision    recall  f1-score   support\n",
      "\n",
      "           1     0.7160    0.7945    0.7532       292\n",
      "           2     0.4076    0.3926    0.4000       163\n",
      "           3     0.3768    0.4483    0.4094       232\n",
      "           4     0.4915    0.3420    0.4034       421\n",
      "           5     0.7789    0.8296    0.8035       892\n",
      "\n",
      "    accuracy                         0.6420      2000\n",
      "   macro avg     0.5542    0.5614    0.5539      2000\n",
      "weighted avg     0.6323    0.6420    0.6333      2000\n",
      "\n"
     ]
    }
   ],
   "source": [
    "# checkpoint accuracy: 0.6428\n",
    "# checkpoint2 accuracy: 0.63350\n",
    "# checkpoint3 accuracy: 0.6420 (best) (get it after 5 epochs)\n",
    "from sklearn.metrics import classification_report\n",
    "print(classification_report(valid_labels, valid_predict_labels, digits=4))"
   ]
  },
  {
   "cell_type": "code",
   "execution_count": 72,
   "metadata": {},
   "outputs": [
    {
     "data": {
      "text/html": [
       "<div>\n",
       "<style scoped>\n",
       "    .dataframe tbody tr th:only-of-type {\n",
       "        vertical-align: middle;\n",
       "    }\n",
       "\n",
       "    .dataframe tbody tr th {\n",
       "        vertical-align: top;\n",
       "    }\n",
       "\n",
       "    .dataframe thead th {\n",
       "        text-align: right;\n",
       "    }\n",
       "</style>\n",
       "<table border=\"1\" class=\"dataframe\">\n",
       "  <thead>\n",
       "    <tr style=\"text-align: right;\">\n",
       "      <th></th>\n",
       "      <th>business_id</th>\n",
       "      <th>cool</th>\n",
       "      <th>date</th>\n",
       "      <th>funny</th>\n",
       "      <th>review_id</th>\n",
       "      <th>text</th>\n",
       "      <th>useful</th>\n",
       "      <th>user_id</th>\n",
       "    </tr>\n",
       "  </thead>\n",
       "  <tbody>\n",
       "    <tr>\n",
       "      <th>0</th>\n",
       "      <td>V-qDa2kr5qWdhs7PU-l-3Q</td>\n",
       "      <td>0</td>\n",
       "      <td>2013-05-29</td>\n",
       "      <td>0</td>\n",
       "      <td>fBHWLNEJmhk6AkzmfLwWcw</td>\n",
       "      <td>Would like to give this more stars - usually I...</td>\n",
       "      <td>1</td>\n",
       "      <td>1pigoFijaHVWGrQl1_tYjw</td>\n",
       "    </tr>\n",
       "    <tr>\n",
       "      <th>1</th>\n",
       "      <td>C1zlvNlxlGZB8g0162QslQ</td>\n",
       "      <td>0</td>\n",
       "      <td>2012-03-02 15:51:49</td>\n",
       "      <td>0</td>\n",
       "      <td>ldEQ02aP1OeSa5N2beseNg</td>\n",
       "      <td>My wife and I took some friends here after din...</td>\n",
       "      <td>0</td>\n",
       "      <td>BKWPuPZFcGmgjRFRzoq1pw</td>\n",
       "    </tr>\n",
       "    <tr>\n",
       "      <th>2</th>\n",
       "      <td>0FOON_PNvG0ZxIZh6Jcv2A</td>\n",
       "      <td>0</td>\n",
       "      <td>2013-09-24 20:31:37</td>\n",
       "      <td>0</td>\n",
       "      <td>0oGr6v9VjtRsRsROGMoWTA</td>\n",
       "      <td>My husband and I had lunch here for the first ...</td>\n",
       "      <td>0</td>\n",
       "      <td>BYVYXKqNs-vv-N1ZhRMs0g</td>\n",
       "    </tr>\n",
       "    <tr>\n",
       "      <th>3</th>\n",
       "      <td>r49iBfbnfoK7yt4rdsL_7g</td>\n",
       "      <td>0</td>\n",
       "      <td>2018-10-20 01:34:08</td>\n",
       "      <td>0</td>\n",
       "      <td>eg5eJ5HmqXuzkxucnKvMTw</td>\n",
       "      <td>I love coming here with my friends! Great for ...</td>\n",
       "      <td>2</td>\n",
       "      <td>dpzmyNglDMeTgV3T5ylUSQ</td>\n",
       "    </tr>\n",
       "    <tr>\n",
       "      <th>4</th>\n",
       "      <td>xnLNPkL7bbdhD842T4oPqg</td>\n",
       "      <td>0</td>\n",
       "      <td>2016-09-25</td>\n",
       "      <td>1</td>\n",
       "      <td>BNDAe34Mxj--Brkzcfi4QA</td>\n",
       "      <td>Make sure that you double check how much these...</td>\n",
       "      <td>1</td>\n",
       "      <td>yk9wx31bfMEe_IXB8Q-ylA</td>\n",
       "    </tr>\n",
       "  </tbody>\n",
       "</table>\n",
       "</div>"
      ],
      "text/plain": [
       "              business_id  cool                 date  funny  \\\n",
       "0  V-qDa2kr5qWdhs7PU-l-3Q     0           2013-05-29      0   \n",
       "1  C1zlvNlxlGZB8g0162QslQ     0  2012-03-02 15:51:49      0   \n",
       "2  0FOON_PNvG0ZxIZh6Jcv2A     0  2013-09-24 20:31:37      0   \n",
       "3  r49iBfbnfoK7yt4rdsL_7g     0  2018-10-20 01:34:08      0   \n",
       "4  xnLNPkL7bbdhD842T4oPqg     0           2016-09-25      1   \n",
       "\n",
       "                review_id                                               text  \\\n",
       "0  fBHWLNEJmhk6AkzmfLwWcw  Would like to give this more stars - usually I...   \n",
       "1  ldEQ02aP1OeSa5N2beseNg  My wife and I took some friends here after din...   \n",
       "2  0oGr6v9VjtRsRsROGMoWTA  My husband and I had lunch here for the first ...   \n",
       "3  eg5eJ5HmqXuzkxucnKvMTw  I love coming here with my friends! Great for ...   \n",
       "4  BNDAe34Mxj--Brkzcfi4QA  Make sure that you double check how much these...   \n",
       "\n",
       "   useful                 user_id  \n",
       "0       1  1pigoFijaHVWGrQl1_tYjw  \n",
       "1       0  BKWPuPZFcGmgjRFRzoq1pw  \n",
       "2       0  BYVYXKqNs-vv-N1ZhRMs0g  \n",
       "3       2  dpzmyNglDMeTgV3T5ylUSQ  \n",
       "4       1  yk9wx31bfMEe_IXB8Q-ylA  "
      ]
     },
     "execution_count": 72,
     "metadata": {},
     "output_type": "execute_result"
    }
   ],
   "source": [
    "test_reviews = pd.read_csv(\"./data/test.csv\")\n",
    "test_reviews.head()"
   ]
  },
  {
   "cell_type": "code",
   "execution_count": 70,
   "metadata": {},
   "outputs": [],
   "source": [
    "test_preprocess_reviews = list()\n",
    "for review in list(test_reviews[\"text\"]):\n",
    "    test_preprocess_reviews.append(preprocess_text(review))"
   ]
  },
  {
   "cell_type": "code",
   "execution_count": null,
   "metadata": {},
   "outputs": [],
   "source": [
    "class ReviewDataset(tf.keras.utils.Sequence):\n",
    "\n",
    "    def __init__(self, X_input_ids, X_attn_masks, y_set, batch_size, maxlen, set_type):\n",
    "        super(ReviewDataset, self).__init__()\n",
    "        self.X_input_ids = X_input_ids\n",
    "        self.X_attn_masks = X_attn_masks\n",
    "        self.y = y_set\n",
    "        self.batch_size = batch_size\n",
    "        self.type = set_type\n",
    "        self.maxlen = maxlen\n",
    "\n",
    "    def __len__(self):\n",
    "        return math.ceil(self.X_input_ids.shape[0]/self.batch_size)\n",
    "    \n",
    "    def __getitem__(self, idx):\n",
    "        low = idx*self.batch_size\n",
    "        high = min(low+self.batch_size, self.X_input_ids.shape[0])\n",
    "        batch_X_input_ids = self.X_input_ids[low:high, :]\n",
    "        batch_X_attn_masks = self.X_attn_masks[low:high, :]\n",
    "        batch_y = self.y[low:high]\n",
    "        batch_y = np.array(batch_y)\n",
    "        batch_X_input_ids = tf.convert_to_tensor(batch_X_input_ids)\n",
    "        batch_X_attn_masks = tf.convert_to_tensor(batch_X_attn_masks)\n",
    "        batch_y = tf.convert_to_tensor(batch_y)\n",
    "        return {\n",
    "            'input_ids': batch_X_input_ids,\n",
    "            'attention_mask': batch_X_attn_masks\n",
    "            }, batch_y"
   ]
  }
 ],
 "metadata": {
  "kernelspec": {
   "display_name": "Python 3",
   "language": "python",
   "name": "python3"
  },
  "language_info": {
   "codemirror_mode": {
    "name": "ipython",
    "version": 3
   },
   "file_extension": ".py",
   "mimetype": "text/x-python",
   "name": "python",
   "nbconvert_exporter": "python",
   "pygments_lexer": "ipython3",
   "version": "3.8.10"
  },
  "orig_nbformat": 4,
  "vscode": {
   "interpreter": {
    "hash": "e7370f93d1d0cde622a1f8e1c04877d8463912d04d973331ad4851f04de6915a"
   }
  }
 },
 "nbformat": 4,
 "nbformat_minor": 2
}
