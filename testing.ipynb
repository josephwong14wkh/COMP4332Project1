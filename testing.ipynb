{
 "cells": [
  {
   "cell_type": "code",
   "execution_count": 116,
   "metadata": {},
   "outputs": [],
   "source": [
    "# Import necessary library\n",
    "import pandas as pd\n",
    "import numpy as np\n",
    "import re\n",
    "import nltk\n",
    "from nltk.corpus import stopwords\n",
    "from numpy import array\n",
    "from keras.preprocessing.text import one_hot, Tokenizer\n",
    "from tensorflow.keras.preprocessing.sequence import pad_sequences\n",
    "import string\n",
    "from nltk.stem import WordNetLemmatizer, PorterStemmer\n",
    "from glove import Corpus, Glove\n",
    "from keras.layers import SimpleRNN, Embedding, Dense, LSTM\n",
    "from keras.models import Sequential\n",
    "import matplotlib.pyplot as plt\n",
    "from sklearn.manifold import TSNE\n"
   ]
  },
  {
   "cell_type": "code",
   "execution_count": 98,
   "metadata": {},
   "outputs": [
    {
     "name": "stderr",
     "output_type": "stream",
     "text": [
      "[nltk_data] Downloading package wordnet to /home/jwong/nltk_data...\n"
     ]
    },
    {
     "data": {
      "text/plain": [
       "True"
      ]
     },
     "execution_count": 98,
     "metadata": {},
     "output_type": "execute_result"
    }
   ],
   "source": [
    "nltk.download('wordnet')"
   ]
  },
  {
   "cell_type": "code",
   "execution_count": 156,
   "metadata": {},
   "outputs": [
    {
     "name": "stderr",
     "output_type": "stream",
     "text": [
      "[nltk_data] Downloading package punkt to /home/jwong/nltk_data...\n",
      "[nltk_data]   Unzipping tokenizers/punkt.zip.\n"
     ]
    },
    {
     "data": {
      "text/plain": [
       "True"
      ]
     },
     "execution_count": 156,
     "metadata": {},
     "output_type": "execute_result"
    }
   ],
   "source": [
    "nltk.download('punkt')"
   ]
  },
  {
   "attachments": {},
   "cell_type": "markdown",
   "metadata": {},
   "source": [
    "Observation of the Dataset"
   ]
  },
  {
   "cell_type": "code",
   "execution_count": 188,
   "metadata": {},
   "outputs": [
    {
     "data": {
      "text/html": [
       "<div>\n",
       "<style scoped>\n",
       "    .dataframe tbody tr th:only-of-type {\n",
       "        vertical-align: middle;\n",
       "    }\n",
       "\n",
       "    .dataframe tbody tr th {\n",
       "        vertical-align: top;\n",
       "    }\n",
       "\n",
       "    .dataframe thead th {\n",
       "        text-align: right;\n",
       "    }\n",
       "</style>\n",
       "<table border=\"1\" class=\"dataframe\">\n",
       "  <thead>\n",
       "    <tr style=\"text-align: right;\">\n",
       "      <th></th>\n",
       "      <th>business_id</th>\n",
       "      <th>cool</th>\n",
       "      <th>date</th>\n",
       "      <th>funny</th>\n",
       "      <th>review_id</th>\n",
       "      <th>stars</th>\n",
       "      <th>text</th>\n",
       "      <th>useful</th>\n",
       "      <th>user_id</th>\n",
       "    </tr>\n",
       "  </thead>\n",
       "  <tbody>\n",
       "    <tr>\n",
       "      <th>0</th>\n",
       "      <td>JYgoAQHdJWKPArQDvBEBng</td>\n",
       "      <td>0</td>\n",
       "      <td>2016-03-30 21:40:34</td>\n",
       "      <td>0</td>\n",
       "      <td>JlUcJiIy24pw5jStCLtavg</td>\n",
       "      <td>5</td>\n",
       "      <td>Best Sunday buffet in the two cities of Charlo...</td>\n",
       "      <td>1</td>\n",
       "      <td>SxLNrLxHm0aEw-kLrbPLew</td>\n",
       "    </tr>\n",
       "    <tr>\n",
       "      <th>1</th>\n",
       "      <td>AASa5G_OHCxGQ0tbjT_2tw</td>\n",
       "      <td>0</td>\n",
       "      <td>2018-08-30 02:50:46</td>\n",
       "      <td>0</td>\n",
       "      <td>xJBrURoI6Tm7PCmytXUMyg</td>\n",
       "      <td>4</td>\n",
       "      <td>My friends and I decided to check out this pla...</td>\n",
       "      <td>0</td>\n",
       "      <td>aW22TlXwhkUUqBYFG7fbTA</td>\n",
       "    </tr>\n",
       "    <tr>\n",
       "      <th>2</th>\n",
       "      <td>Z2xuK4BbrD0Qr9dAs7oTVw</td>\n",
       "      <td>0</td>\n",
       "      <td>2017-02-20</td>\n",
       "      <td>0</td>\n",
       "      <td>99wD_l4D6Sw7Kesaq9GPhg</td>\n",
       "      <td>5</td>\n",
       "      <td>This is definitely New York Chinese food! The ...</td>\n",
       "      <td>4</td>\n",
       "      <td>SerdK2DW_2R7z1b9WU97fg</td>\n",
       "    </tr>\n",
       "    <tr>\n",
       "      <th>3</th>\n",
       "      <td>YAMXCiebYV49_B8lDAaLxA</td>\n",
       "      <td>0</td>\n",
       "      <td>2017-04-06 21:56:41</td>\n",
       "      <td>0</td>\n",
       "      <td>AmNFz9svFx9QCSZsUs8JTA</td>\n",
       "      <td>3</td>\n",
       "      <td>Beaucoup moins de choix que son voisin d'en fa...</td>\n",
       "      <td>0</td>\n",
       "      <td>pf4nr7_PlMrHjbmQYbEFcQ</td>\n",
       "    </tr>\n",
       "    <tr>\n",
       "      <th>4</th>\n",
       "      <td>ynvp3qvt3xc321dLKFxpgA</td>\n",
       "      <td>0</td>\n",
       "      <td>2012-03-09 19:30:47</td>\n",
       "      <td>0</td>\n",
       "      <td>nwnlKZN2MWhyL3aKUqY7ig</td>\n",
       "      <td>2</td>\n",
       "      <td>Location is nice, but it is the typical blah H...</td>\n",
       "      <td>2</td>\n",
       "      <td>Mf5TQEqn59k_TapTpfjYdA</td>\n",
       "    </tr>\n",
       "    <tr>\n",
       "      <th>5</th>\n",
       "      <td>cOWBLBde6AAwzBDuoa85Ag</td>\n",
       "      <td>0</td>\n",
       "      <td>2018-02-19 20:54:54</td>\n",
       "      <td>0</td>\n",
       "      <td>y1nu5PvX6MkU91TI1GxeQg</td>\n",
       "      <td>3</td>\n",
       "      <td>I wanted to like this place because they had g...</td>\n",
       "      <td>0</td>\n",
       "      <td>kz47g_dMSZJToWkeFAxyxw</td>\n",
       "    </tr>\n",
       "  </tbody>\n",
       "</table>\n",
       "</div>"
      ],
      "text/plain": [
       "              business_id  cool                 date  funny  \\\n",
       "0  JYgoAQHdJWKPArQDvBEBng     0  2016-03-30 21:40:34      0   \n",
       "1  AASa5G_OHCxGQ0tbjT_2tw     0  2018-08-30 02:50:46      0   \n",
       "2  Z2xuK4BbrD0Qr9dAs7oTVw     0           2017-02-20      0   \n",
       "3  YAMXCiebYV49_B8lDAaLxA     0  2017-04-06 21:56:41      0   \n",
       "4  ynvp3qvt3xc321dLKFxpgA     0  2012-03-09 19:30:47      0   \n",
       "5  cOWBLBde6AAwzBDuoa85Ag     0  2018-02-19 20:54:54      0   \n",
       "\n",
       "                review_id  stars  \\\n",
       "0  JlUcJiIy24pw5jStCLtavg      5   \n",
       "1  xJBrURoI6Tm7PCmytXUMyg      4   \n",
       "2  99wD_l4D6Sw7Kesaq9GPhg      5   \n",
       "3  AmNFz9svFx9QCSZsUs8JTA      3   \n",
       "4  nwnlKZN2MWhyL3aKUqY7ig      2   \n",
       "5  y1nu5PvX6MkU91TI1GxeQg      3   \n",
       "\n",
       "                                                text  useful  \\\n",
       "0  Best Sunday buffet in the two cities of Charlo...       1   \n",
       "1  My friends and I decided to check out this pla...       0   \n",
       "2  This is definitely New York Chinese food! The ...       4   \n",
       "3  Beaucoup moins de choix que son voisin d'en fa...       0   \n",
       "4  Location is nice, but it is the typical blah H...       2   \n",
       "5  I wanted to like this place because they had g...       0   \n",
       "\n",
       "                  user_id  \n",
       "0  SxLNrLxHm0aEw-kLrbPLew  \n",
       "1  aW22TlXwhkUUqBYFG7fbTA  \n",
       "2  SerdK2DW_2R7z1b9WU97fg  \n",
       "3  pf4nr7_PlMrHjbmQYbEFcQ  \n",
       "4  Mf5TQEqn59k_TapTpfjYdA  \n",
       "5  kz47g_dMSZJToWkeFAxyxw  "
      ]
     },
     "execution_count": 188,
     "metadata": {},
     "output_type": "execute_result"
    }
   ],
   "source": [
    "# Loading the dataset\n",
    "reviews = pd.read_csv(\"./data/train.csv\")\n",
    "reviews.head(6)"
   ]
  },
  {
   "cell_type": "code",
   "execution_count": 189,
   "metadata": {},
   "outputs": [
    {
     "name": "stdout",
     "output_type": "stream",
     "text": [
      "Missing value: False\n"
     ]
    }
   ],
   "source": [
    "# Check for possible null value inside the dataset\n",
    "print(f\"Missing value: {reviews.isnull().values.any()}\")"
   ]
  },
  {
   "cell_type": "code",
   "execution_count": 190,
   "metadata": {},
   "outputs": [
    {
     "data": {
      "text/plain": [
       "<Axes: xlabel='stars', ylabel='count'>"
      ]
     },
     "execution_count": 190,
     "metadata": {},
     "output_type": "execute_result"
    },
    {
     "data": {
      "image/png": "[encoded data removed]",
      "text/plain": [
       "<Figure size 640x480 with 1 Axes>"
      ]
     },
     "metadata": {},
     "output_type": "display_data"
    }
   ],
   "source": [
    "# Observe the distribution of the dataset\n",
    "import seaborn as sns\n",
    "sns.countplot(x='stars', data=reviews)"
   ]
  },
  {
   "cell_type": "code",
   "execution_count": 191,
   "metadata": {},
   "outputs": [
    {
     "name": "stdout",
     "output_type": "stream",
     "text": [
      "Dataset distribution: {'1': 2659, '2': 1426, '3': 1969, '4': 4008, '5': 7938}\n",
      "Dataset distribution(%): {'1': 0.15, '2': 0.08, '3': 0.11, '4': 0.22, '5': 0.44}\n"
     ]
    }
   ],
   "source": [
    "dataset_info = {\"1\":0, \"2\":0, \"3\":0, \"4\":0, \"5\":0}\n",
    "for rating in reviews[\"stars\"]:\n",
    "    dataset_info[str(rating)] += 1\n",
    "print(f\"Dataset distribution: {dataset_info}\")\n",
    "\n",
    "for rating in dataset_info:\n",
    "    dataset_info[rating] /= len(reviews[\"stars\"])\n",
    "    dataset_info[rating] = round(dataset_info[rating], 2)\n",
    "print(f\"Dataset distribution(%): {dataset_info}\")\n",
    "\n",
    "# Dataset is imbalance: https://www.analyticsvidhya.com/blog/2020/07/10-techniques-to-deal-with-class-imbalance-in-machine-learning/"
   ]
  },
  {
   "attachments": {},
   "cell_type": "markdown",
   "metadata": {},
   "source": [
    "Text Preprocessing"
   ]
  },
  {
   "cell_type": "code",
   "execution_count": 277,
   "metadata": {},
   "outputs": [],
   "source": [
    "lemmatizer = WordNetLemmatizer()\n",
    "# nltk stopword is not suitable for this project so stopwords list is modified\n",
    "stop_words = ['i', 'me', 'my', 'myself', 'we', 'our', 'ours', 'ourselves', 'you',  \"you're\", \"you've\", \"you'll\", \"you'd\", 'your', 'yours', 'yourself', 'yourselves', 'he', 'him', 'his', 'himself', 'she', \"she's\", 'her', 'hers', 'herself', 'it', 'itself', 'they', 'them', 'their', 'theirs', 'themselves', 'what', 'which', 'who', 'whom', 'this', 'that', \"that'll\", 'these', 'those', 'am', 'is', 'are', 'was', 'were', 'be', 'been', 'being', 'have', 'has', 'had', 'having', 'do', 'does', 'did', 'doing', 'a', 'an', 'the', 'if', 'or', 'because', 'as', 'until', 'while', 'of', 'at', 'by', 'for', 'with', 'about', 'between', 'into', 'through', 'during', 'before', 'after', 'above', 'below', 'to', 'from', 'up', 'down', 'in', 'out', 'on', 'off', 'over', 'under', 'again', 'further', 'then', 'once', 'here', 'there', 'when', 'where', 'why', 'how', 'all', 'any', 'both', 'each', 'few', 'more', 'most', 'other', 'some', 'such','own', 'same', 's', 't', 'now', 'd', 'll', 'm', 'o', 're', 've', 'y', 'ain', 'ma', 'shan']"
   ]
  },
  {
   "cell_type": "code",
   "execution_count": 207,
   "metadata": {},
   "outputs": [],
   "source": [
    "def preprocess_text(text):\n",
    "  # 1. remove special character (e.g. \\n (new line character), \\d)\n",
    "  no_spec_char = re.sub(r\"(\\s?\\\\\\w)\", \" \", text)\n",
    "\n",
    "  # 2. remove number (e.g. 1, 145, 34... etc)\n",
    "  no_num = re.sub(r\"\\d+\", \" \", no_spec_char)\n",
    "  no_num = re.sub(r\"was\", \" \", no_num)\n",
    "\n",
    "  # 3. remove punctuation\n",
    "  # string.punctuation = !\"#$%&'()*+, -./:;<=>?@[\\]^_`{|}~\n",
    "  no_punc = [char for char in no_num if char not in string.punctuation]\n",
    "  no_punc = ''.join(no_punc)\n",
    "\n",
    "  # 4. tokenization\n",
    "  tokenize = nltk.word_tokenize(no_punc)\n",
    "\n",
    "  # 5. Lower casing\n",
    "  lower = [word.lower() for word in tokenize]\n",
    "\n",
    "  # 6. perform lammatization/stemming\n",
    "  lem_word = [lemmatizer.lemmatize(word) for word in lower]\n",
    " \n",
    "  # 7. remove stopwords (useless words and data)\n",
    "  clean_words = [word.lower() for word in lem_word if word.lower() not in stop_words]\n",
    "  \n",
    "  return clean_words"
   ]
  },
  {
   "cell_type": "code",
   "execution_count": null,
   "metadata": {},
   "outputs": [],
   "source": [
    "# string.punctuation = !\"#$%&'()*+, -./:;<=>?@[\\]^_`{|}~\n",
    "new = preprocess_text(reviews[\"text\"][5])\n",
    "new"
   ]
  },
  {
   "cell_type": "code",
   "execution_count": 209,
   "metadata": {},
   "outputs": [],
   "source": [
    "train_X = []\n",
    "for review in list(reviews[\"text\"]):\n",
    "    train_X.append(preprocess_text(review))"
   ]
  },
  {
   "cell_type": "code",
   "execution_count": 210,
   "metadata": {},
   "outputs": [
    {
     "name": "stderr",
     "output_type": "stream",
     "text": [
      "/tmp/ipykernel_294/1138643754.py:1: VisibleDeprecationWarning: Creating an ndarray from ragged nested sequences (which is a list-or-tuple of lists-or-tuples-or ndarrays with different lengths or shapes) is deprecated. If you meant to do this, you must specify 'dtype=object' when creating the ndarray.\n",
      "  train_X = np.array(train_X)\n"
     ]
    }
   ],
   "source": [
    "train_X = np.array(train_X)\n",
    "np.save(\"training_data.npy\", train_X)"
   ]
  },
  {
   "attachments": {},
   "cell_type": "markdown",
   "metadata": {},
   "source": [
    "Converting word to vector"
   ]
  },
  {
   "cell_type": "code",
   "execution_count": 280,
   "metadata": {},
   "outputs": [],
   "source": [
    "train_X = np.load(\"training_data.npy\", allow_pickle=True)"
   ]
  },
  {
   "cell_type": "code",
   "execution_count": 82,
   "metadata": {},
   "outputs": [
    {
     "name": "stdout",
     "output_type": "stream",
     "text": [
      "[==================================================] 100.0% 376.1/376.1MB downloaded\n"
     ]
    }
   ],
   "source": [
    "import gensim.downloader as api\n",
    "glove = api.load('glove-wiki-gigaword-300')"
   ]
  },
  {
   "cell_type": "code",
   "execution_count": 287,
   "metadata": {},
   "outputs": [],
   "source": [
    "vec_reviews = []\n",
    "percentage = 0\n",
    "for i, review in enumerate(train_X):\n",
    "    vec_review = []\n",
    "    banchmark = int(len(review)*percentage)\n",
    "    for j, word in enumerate(review):\n",
    "        try:\n",
    "            wordvec = glove[word]\n",
    "            vec_review.append(wordvec)\n",
    "        except:\n",
    "            #print(f\"[{word}] in review {i} cannot be converted to vector and thus removed\")\n",
    "            pass\n",
    "    if (len(vec_review) >= banchmark):\n",
    "        vec_reviews.append(vec_review)"
   ]
  },
  {
   "cell_type": "code",
   "execution_count": 288,
   "metadata": {},
   "outputs": [
    {
     "name": "stdout",
     "output_type": "stream",
     "text": [
      "number of data before word to vector: 18000\n",
      "number of data after word to vector: 18000\n",
      "number of data removed (more than 30% of contecnt is not english): 0\n"
     ]
    }
   ],
   "source": [
    "print(f\"number of data before word to vector: {len(train_X)}\")\n",
    "print(f\"number of data after word to vector: {len(vec_reviews)}\")\n",
    "print(f\"number of data removed (more than 30% of contecnt is not english): {len(train_X)-len(vec_reviews)}\")"
   ]
  },
  {
   "cell_type": "code",
   "execution_count": null,
   "metadata": {},
   "outputs": [],
   "source": [
    "# Word embedding GloVe: https://www.youtube.com/watch?v=Fn_U2OG1uqI&ab_channel=NormalizedNerd\n",
    "# https://www.youtube.com/watch?v=InCWrgrUJT8&ab_channel=Scarlett%27sLog"
   ]
  },
  {
   "cell_type": "code",
   "execution_count": null,
   "metadata": {},
   "outputs": [],
   "source": []
  },
  {
   "cell_type": "code",
   "execution_count": null,
   "metadata": {},
   "outputs": [],
   "source": []
  }
 ],
 "metadata": {
  "kernelspec": {
   "display_name": "Python 3",
   "language": "python",
   "name": "python3"
  },
  "language_info": {
   "codemirror_mode": {
    "name": "ipython",
    "version": 3
   },
   "file_extension": ".py",
   "mimetype": "text/x-python",
   "name": "python",
   "nbconvert_exporter": "python",
   "pygments_lexer": "ipython3",
   "version": "3.8.10"
  },
  "orig_nbformat": 4
 },
 "nbformat": 4,
 "nbformat_minor": 2
}
